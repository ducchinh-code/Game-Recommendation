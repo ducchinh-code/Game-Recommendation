{
 "cells": [
  {
   "metadata": {
    "ExecuteTime": {
     "end_time": "2025-07-11T14:07:22.802444Z",
     "start_time": "2025-07-11T14:07:12.997086Z"
    }
   },
   "cell_type": "code",
   "source": [
    "import pandas as pd\n",
    "import numpy as np\n",
    "\n",
    "u_cols = ['user_id', 'game_name', 'rated', 'playtime', 'player_achievement']\n",
    "dtype_map = {\n",
    "    'rated': 'int8',\n",
    "    'playtime': 'float32',\n",
    "    'player_achievement': 'float32'\n",
    "}\n",
    "\n",
    "games = pd.read_csv('data/dataset.csv',dtype={'genres': str})\n",
    "\n",
    "users = pd.read_csv(\n",
    "    'data/user_data.csv',\n",
    "    sep=',',\n",
    "    names=u_cols,\n",
    "    skiprows=1,\n",
    "    encoding='utf-8',\n",
    "    dtype=dtype_map\n",
    ")\n"
   ],
   "id": "6bafc9fa86c6be51",
   "outputs": [],
   "execution_count": 2
  },
  {
   "metadata": {
    "ExecuteTime": {
     "end_time": "2025-07-11T14:07:22.883230Z",
     "start_time": "2025-07-11T14:07:22.875223Z"
    }
   },
   "cell_type": "code",
   "source": [
    "def score(rated, playtime, average_playtime, median_playtime, player_achievement, total_achievement):\n",
    "    if player_achievement > 0:\n",
    "        rated_ratio = 0.45\n",
    "        playtime_ratio = 0.3\n",
    "        player_achievement_ratio = 0.25\n",
    "    else:\n",
    "        rated_ratio = 0.6\n",
    "        playtime_ratio = 0.4\n",
    "        player_achievement_ratio = 0\n",
    "    preference = 0\n",
    "    if rated == 1:\n",
    "        preference += rated_ratio\n",
    "    else:\n",
    "        preference += 0\n",
    "\n",
    "    if playtime > median_playtime:\n",
    "        if playtime > average_playtime:\n",
    "            preference += playtime_ratio\n",
    "        else:\n",
    "            preference += (playtime / average_playtime) * playtime_ratio\n",
    "    else:\n",
    "        if playtime > average_playtime:\n",
    "            preference += (1.8 * playtime / (average_playtime + median_playtime)) * playtime_ratio\n",
    "        else:\n",
    "            preference += (playtime / (average_playtime + median_playtime)) * playtime_ratio\n",
    "\n",
    "    achievement_percent = player_achievement / total_achievement\n",
    "    if player_achievement >= 0.7:\n",
    "        preference += (player_achievement / total_achievement) * player_achievement_ratio\n",
    "    elif player_achievement >= 0.4:\n",
    "        preference += 0.7 * (player_achievement / total_achievement) * player_achievement_ratio\n",
    "    else:\n",
    "        preference += 0\n",
    "\n",
    "    return preference"
   ],
   "id": "b949e39d23deadd6",
   "outputs": [],
   "execution_count": 3
  },
  {
   "metadata": {
    "ExecuteTime": {
     "end_time": "2025-07-11T14:07:24.725303Z",
     "start_time": "2025-07-11T14:07:23.049182Z"
    }
   },
   "cell_type": "code",
   "source": [
    "df = users.merge(games, left_on='game_name', right_on='name', how='left')\n",
    "def min_max_scale(series):\n",
    "    return (series - series.min()) / (series.max() - series.min())\n",
    "\n",
    "for col in ['rated', 'playtime', 'player_achievement', 'average_playtime', 'median_playtime', 'achievements']:\n",
    "    df[f'norm_{col}'] = min_max_scale(df[col].fillna(0))\n",
    "\n",
    "df['score'] = df[\n",
    "    ['norm_rated', 'norm_playtime', 'norm_player_achievement',\n",
    "     'norm_average_playtime', 'norm_median_playtime', 'norm_achievements']\n",
    "].mean(axis=1)\n",
    "\n",
    "df['preference'] = pd.qcut(df['score'], 5, labels=[1, 2, 3, 4, 5])\n"
   ],
   "id": "e1d0e33e5823a174",
   "outputs": [],
   "execution_count": 4
  },
  {
   "metadata": {
    "ExecuteTime": {
     "end_time": "2025-07-11T14:07:26.942531Z",
     "start_time": "2025-07-11T14:07:24.756684Z"
    }
   },
   "cell_type": "code",
   "source": [
    "ratings = df[['user_id', 'game_name', 'preference']].copy()\n",
    "ratings['user_id_code'] = ratings['user_id'].astype('category').cat.codes\n",
    "ratings['game_name_code'] = ratings['game_name'].astype('category').cat.codes\n",
    "\n",
    "user_id_map = dict(zip(ratings['user_id_code'], ratings['user_id']))\n",
    "game_id_map = dict(zip(ratings['game_name_code'], ratings['game_name']))\n",
    "reverse_user_id_map = dict(zip(ratings['user_id'], ratings['user_id_code']))\n",
    "\n",
    "def recommend_for_user(user_id_real, top_n=5):\n",
    "    if user_id_real not in reverse_user_id_map:\n",
    "        print(f\"User '{user_id_real}' không có trong hệ thống.\")\n",
    "        return\n",
    "\n",
    "    user_code = reverse_user_id_map[user_id_real]\n",
    "    recommendations = rs.recommend(user_code, normalized=0)\n",
    "\n",
    "    if not recommendations:\n",
    "        print(f\"Không có gợi ý cho người dùng {user_id_real}\")\n",
    "        return\n",
    "\n",
    "    print(f\"\\n>>> Gợi ý cho người dùng: {user_id_real}\")\n",
    "    for game_code, score in recommendations[:top_n]:\n",
    "        game_name = game_id_map.get(game_code, f\"[unknown game {game_code}]\")\n",
    "        print(f\" - {game_name} (score: {score:.2f})\")\n"
   ],
   "id": "7242ee26d5b676cb",
   "outputs": [],
   "execution_count": 5
  },
  {
   "metadata": {
    "ExecuteTime": {
     "end_time": "2025-07-11T14:07:27.556381Z",
     "start_time": "2025-07-11T14:07:26.985059Z"
    }
   },
   "cell_type": "code",
   "source": [
    "games['genres'] = games['genres'].fillna('').apply(\n",
    "    lambda x: [tag.strip().lower() for tag in x.split(';') if tag.strip()] if isinstance(x, str) else []\n",
    ")\n",
    "\n",
    "game_tag_map = dict(zip(games['name'], games['genres']))\n",
    "\n",
    "game_code_to_name = dict(zip(ratings['game_name_code'], ratings['game_name']))\n",
    "\n",
    "game_code_to_tags = {\n",
    "    code: game_tag_map.get(game_name, [])\n",
    "    for code, game_name in game_code_to_name.items()\n",
    "}"
   ],
   "id": "f2bb44f9908d4288",
   "outputs": [],
   "execution_count": 6
  },
  {
   "metadata": {
    "ExecuteTime": {
     "end_time": "2025-07-11T14:07:47.759756Z",
     "start_time": "2025-07-11T14:07:27.605712Z"
    }
   },
   "cell_type": "code",
   "source": [
    "from CF import CF\n",
    "from sklearn.model_selection import train_test_split\n",
    "\n",
    "Y_data = ratings[['user_id_code', 'game_name_code', 'preference']].to_numpy()\n",
    "\n",
    "Y_train, Y_test = train_test_split(Y_data, test_size=0.2, random_state=42)\n",
    "\n",
    "rs = CF(Y_train, k=5, uuCF=0, ratings=ratings, game_code_to_tag = game_code_to_tags)\n",
    "rs.fit()\n"
   ],
   "id": "d2ad9e382726e451",
   "outputs": [],
   "execution_count": 7
  },
  {
   "metadata": {
    "ExecuteTime": {
     "end_time": "2025-07-11T14:07:50.536520Z",
     "start_time": "2025-07-11T14:07:47.831054Z"
    }
   },
   "cell_type": "code",
   "source": [
    "n_tests = min(1000, Y_test.shape[0])\n",
    "SE = 0\n",
    "for n in range(n_tests):\n",
    "    u, i, actual_rating = Y_test[n]\n",
    "    u, i = int(u), int(i)\n",
    "    pred_rating = rs.pred(u, i, normalized=0)\n",
    "    SE += (pred_rating - actual_rating) ** 2\n",
    "\n",
    "RMSE = np.sqrt(SE / n_tests)\n",
    "print(\"Item-Item CF, RMSE =\", RMSE)"
   ],
   "id": "24a960acd3b18ff5",
   "outputs": [
    {
     "name": "stdout",
     "output_type": "stream",
     "text": [
      "Item-Item CF, RMSE = 1.7969563998698361\n"
     ]
    }
   ],
   "execution_count": 8
  },
  {
   "metadata": {
    "ExecuteTime": {
     "end_time": "2025-07-11T14:08:03.826834Z",
     "start_time": "2025-07-11T14:07:50.608968Z"
    }
   },
   "cell_type": "code",
   "source": "recommend_for_user('user_100')",
   "id": "600dc75ae57642ae",
   "outputs": [
    {
     "name": "stdout",
     "output_type": "stream",
     "text": [
      "\n",
      ">>> Gợi ý cho người dùng: user_100\n",
      " - Influent (score: 5.57)\n",
      " - Halo: Spartan Strike (score: 5.57)\n",
      " - BioShock™ 2 Remastered (score: 5.57)\n",
      " - Assassin’s Creed® Brotherhood (score: 5.57)\n",
      " - MONMUSU (score: 5.36)\n"
     ]
    }
   ],
   "execution_count": 9
  }
 ],
 "metadata": {
  "kernelspec": {
   "display_name": "Python 3",
   "language": "python",
   "name": "python3"
  },
  "language_info": {
   "codemirror_mode": {
    "name": "ipython",
    "version": 2
   },
   "file_extension": ".py",
   "mimetype": "text/x-python",
   "name": "python",
   "nbconvert_exporter": "python",
   "pygments_lexer": "ipython2",
   "version": "2.7.6"
  }
 },
 "nbformat": 4,
 "nbformat_minor": 5
}
