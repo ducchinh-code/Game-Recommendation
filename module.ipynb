{
 "cells": [
  {
   "cell_type": "code",
   "id": "initial_id",
   "metadata": {
    "collapsed": true,
    "ExecuteTime": {
     "end_time": "2025-07-06T12:08:08.460093Z",
     "start_time": "2025-07-06T12:08:08.455468Z"
    }
   },
   "source": [
    "import numpy as np\n",
    "from sklearn.metrics.pairwise import cosine_similarity\n",
    "import pandas as pd"
   ],
   "outputs": [],
   "execution_count": 2
  },
  {
   "metadata": {
    "ExecuteTime": {
     "end_time": "2025-07-06T12:09:11.396067Z",
     "start_time": "2025-07-06T12:09:05.423869Z"
    }
   },
   "cell_type": "code",
   "source": [
    "data = pd.read_csv('data/user_game_wide.csv')\n",
    "print(data)"
   ],
   "id": "91b9c60704675434",
   "outputs": [
    {
     "name": "stdout",
     "output_type": "stream",
     "text": [
      "       user_id  .hack//G.U. Last Recode  10,000,000  100% Orange Juice  \\\n",
      "0      U000001                      NaN         NaN                NaN   \n",
      "1      U000002                      NaN         NaN                NaN   \n",
      "2      U000003                      NaN         NaN                NaN   \n",
      "3      U000004                      NaN         NaN                NaN   \n",
      "4      U000005                      NaN         NaN                NaN   \n",
      "...        ...                      ...         ...                ...   \n",
      "35995  U035996                      NaN         NaN                NaN   \n",
      "35996  U035997                      NaN         NaN                NaN   \n",
      "35997  U035998                      NaN         NaN                NaN   \n",
      "35998  U035999                      NaN         NaN                NaN   \n",
      "35999  U036000                      NaN         NaN                NaN   \n",
      "\n",
      "       12 Labours of Hercules  12 Labours of Hercules II: The Cretan Bull  \\\n",
      "0                         NaN                                         NaN   \n",
      "1                         NaN                                         1.0   \n",
      "2                         NaN                                         NaN   \n",
      "3                         NaN                                         1.0   \n",
      "4                         NaN                                         NaN   \n",
      "...                       ...                                         ...   \n",
      "35995                     NaN                                         NaN   \n",
      "35996                     NaN                                         NaN   \n",
      "35997                     NaN                                         NaN   \n",
      "35998                     NaN                                         NaN   \n",
      "35999                     NaN                                         NaN   \n",
      "\n",
      "       12 is Better Than 6  140  16bit Trader  2064: Read Only Memories  ...  \\\n",
      "0                      NaN  NaN           NaN                       NaN  ...   \n",
      "1                      NaN  NaN           NaN                       NaN  ...   \n",
      "2                      NaN  NaN           NaN                       NaN  ...   \n",
      "3                      NaN  NaN           NaN                       NaN  ...   \n",
      "4                      NaN  NaN           NaN                       NaN  ...   \n",
      "...                    ...  ...           ...                       ...  ...   \n",
      "35995                  NaN  NaN           NaN                       NaN  ...   \n",
      "35996                  NaN  NaN           NaN                       NaN  ...   \n",
      "35997                  NaN  NaN           NaN                       NaN  ...   \n",
      "35998                  NaN  NaN           NaN                       NaN  ...   \n",
      "35999                  NaN  NaN           NaN                       NaN  ...   \n",
      "\n",
      "       東方憑依華　～ Antinomy of Common Flowers.  武侠乂 The Swordsmen X  \\\n",
      "0                                      NaN                  NaN   \n",
      "1                                      NaN                  NaN   \n",
      "2                                      NaN                  NaN   \n",
      "3                                      NaN                  NaN   \n",
      "4                                      NaN                  NaN   \n",
      "...                                    ...                  ...   \n",
      "35995                                  NaN                  NaN   \n",
      "35996                                  NaN                  NaN   \n",
      "35997                                  NaN                  NaN   \n",
      "35998                                  NaN                  NaN   \n",
      "35999                                  NaN                  NaN   \n",
      "\n",
      "       武林志（Wushu Chronicles）  永遠消失的幻想鄉 ～ The Disappearing of Gensokyo  \\\n",
      "0                        NaN                                      NaN   \n",
      "1                        NaN                                      NaN   \n",
      "2                        NaN                                      NaN   \n",
      "3                        NaN                                      NaN   \n",
      "4                        NaN                                      NaN   \n",
      "...                      ...                                      ...   \n",
      "35995                    NaN                                      NaN   \n",
      "35996                    NaN                                      NaN   \n",
      "35997                    NaN                                      NaN   \n",
      "35998                    NaN                                      NaN   \n",
      "35999                    NaN                                      NaN   \n",
      "\n",
      "       汉匈决战/Han Xiongnu Wars  河洛群俠傳 (Ho Tu Lo Shu ： The Books of Dragon)  \\\n",
      "0                        NaN                                         NaN   \n",
      "1                        0.0                                         NaN   \n",
      "2                        NaN                                         NaN   \n",
      "3                        NaN                                         NaN   \n",
      "4                        NaN                                         NaN   \n",
      "...                      ...                                         ...   \n",
      "35995                    NaN                                         NaN   \n",
      "35996                    NaN                                         NaN   \n",
      "35997                    NaN                                         NaN   \n",
      "35998                    NaN                                         NaN   \n",
      "35999                    NaN                                         NaN   \n",
      "\n",
      "       游魂2-you're the only one- / Tayutama 2-you're the only one-  \\\n",
      "0                                                    NaN            \n",
      "1                                                    NaN            \n",
      "2                                                    NaN            \n",
      "3                                                    NaN            \n",
      "4                                                    NaN            \n",
      "...                                                  ...            \n",
      "35995                                                NaN            \n",
      "35996                                                NaN            \n",
      "35997                                                NaN            \n",
      "35998                                                NaN            \n",
      "35999                                                NaN            \n",
      "\n",
      "       灵魂筹码 Soul at Stake  电竞俱乐部/ESports Club  音灵 INVAXION  \n",
      "0                     NaN                 NaN          NaN  \n",
      "1                     NaN                 NaN          NaN  \n",
      "2                     NaN                 NaN          NaN  \n",
      "3                     NaN                 NaN          NaN  \n",
      "4                     NaN                 NaN          NaN  \n",
      "...                   ...                 ...          ...  \n",
      "35995                 NaN                 NaN          NaN  \n",
      "35996                 NaN                 NaN          NaN  \n",
      "35997                 NaN                 NaN          NaN  \n",
      "35998                 NaN                 NaN          NaN  \n",
      "35999                 NaN                 NaN          NaN  \n",
      "\n",
      "[36000 rows x 2577 columns]\n"
     ]
    }
   ],
   "execution_count": 3
  },
  {
   "metadata": {},
   "cell_type": "code",
   "outputs": [],
   "execution_count": null,
   "source": "",
   "id": "df4e2599fc4c5d0"
  }
 ],
 "metadata": {
  "kernelspec": {
   "display_name": "Python 3",
   "language": "python",
   "name": "python3"
  },
  "language_info": {
   "codemirror_mode": {
    "name": "ipython",
    "version": 2
   },
   "file_extension": ".py",
   "mimetype": "text/x-python",
   "name": "python",
   "nbconvert_exporter": "python",
   "pygments_lexer": "ipython2",
   "version": "2.7.6"
  }
 },
 "nbformat": 4,
 "nbformat_minor": 5
}
