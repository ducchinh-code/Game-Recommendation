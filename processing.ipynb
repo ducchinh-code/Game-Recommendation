{
 "cells": [
  {
   "metadata": {
    "ExecuteTime": {
     "end_time": "2025-07-11T09:20:40.939040Z",
     "start_time": "2025-07-11T09:20:39.321194Z"
    }
   },
   "cell_type": "code",
   "source": [
    "import pandas as pd\n",
    "import numpy as np\n",
    "\n",
    "u_cols = ['user_id', 'game_name', 'rated', 'playtime', 'player_achievement']\n",
    "dtype_map = {\n",
    "    'rated': 'int8',\n",
    "    'playtime': 'float32',\n",
    "    'player_achievement': 'float32'\n",
    "}\n",
    "\n",
    "games = pd.read_csv('data/dataset.csv')\n",
    "\n",
    "users = pd.read_csv(\n",
    "    'data/user_data.csv',\n",
    "    sep=',',\n",
    "    names=u_cols,\n",
    "    skiprows=1,\n",
    "    encoding='utf-8',\n",
    "    dtype=dtype_map\n",
    ")\n"
   ],
   "id": "6bafc9fa86c6be51",
   "outputs": [],
   "execution_count": 1
  },
  {
   "metadata": {
    "ExecuteTime": {
     "end_time": "2025-07-11T09:20:41.196794Z",
     "start_time": "2025-07-11T09:20:41.190410Z"
    }
   },
   "cell_type": "code",
   "source": [
    "def score(rated, playtime, average_playtime, median_playtime, player_achievement, total_achievement):\n",
    "    if player_achievement > 0:\n",
    "        rated_ratio = 0.45\n",
    "        playtime_ratio = 0.3\n",
    "        player_achievement_ratio = 0.25\n",
    "    else:\n",
    "        rated_ratio = 0.6\n",
    "        playtime_ratio = 0.4\n",
    "        player_achievement_ratio = 0\n",
    "    preference = 0\n",
    "    if rated == 1:\n",
    "        preference += rated_ratio\n",
    "    else:\n",
    "        preference += 0\n",
    "\n",
    "    if playtime > median_playtime:\n",
    "        if playtime > average_playtime:\n",
    "            preference += playtime_ratio\n",
    "        else:\n",
    "            preference += (playtime / average_playtime) * playtime_ratio\n",
    "    else:\n",
    "        if playtime > average_playtime:\n",
    "            preference += (1.8 * playtime / (average_playtime + median_playtime)) * playtime_ratio\n",
    "        else:\n",
    "            preference += (playtime / (average_playtime + median_playtime)) * playtime_ratio\n",
    "\n",
    "    achievement_percent = player_achievement / total_achievement\n",
    "    if player_achievement >= 0.7:\n",
    "        preference += (player_achievement / total_achievement) * player_achievement_ratio\n",
    "    elif player_achievement >= 0.4:\n",
    "        preference += 0.7 * (player_achievement / total_achievement) * player_achievement_ratio\n",
    "    else:\n",
    "        preference += 0\n",
    "\n",
    "    return preference"
   ],
   "id": "b949e39d23deadd6",
   "outputs": [],
   "execution_count": 2
  },
  {
   "metadata": {
    "ExecuteTime": {
     "end_time": "2025-07-11T09:20:42.646885Z",
     "start_time": "2025-07-11T09:20:41.215934Z"
    }
   },
   "cell_type": "code",
   "source": [
    "df = users.merge(games, left_on='game_name', right_on='name', how='left')\n",
    "def min_max_scale(series):\n",
    "    return (series - series.min()) / (series.max() - series.min())\n",
    "\n",
    "for col in ['rated', 'playtime', 'player_achievement', 'average_playtime', 'median_playtime', 'achievements']:\n",
    "    df[f'norm_{col}'] = min_max_scale(df[col].fillna(0))\n",
    "\n",
    "df['score'] = df[\n",
    "    ['norm_rated', 'norm_playtime', 'norm_player_achievement',\n",
    "     'norm_average_playtime', 'norm_median_playtime', 'norm_achievements']\n",
    "].mean(axis=1)\n",
    "\n",
    "df['preference'] = pd.qcut(df['score'], 5, labels=[1, 2, 3, 4, 5])\n"
   ],
   "id": "e1d0e33e5823a174",
   "outputs": [],
   "execution_count": 3
  },
  {
   "metadata": {
    "ExecuteTime": {
     "end_time": "2025-07-11T09:29:44.136948Z",
     "start_time": "2025-07-11T09:29:29.522995Z"
    }
   },
   "cell_type": "code",
   "source": [
    "from CF import CF\n",
    "from sklearn.model_selection import train_test_split\n",
    "\n",
    "ratings = df[['user_id', 'game_name', 'preference']].copy()\n",
    "ratings['user_id_code'] = ratings['user_id'].astype('category').cat.codes\n",
    "ratings['game_name_code'] = ratings['game_name'].astype('category').cat.codes\n",
    "\n",
    "Y_data = ratings[['user_id_code', 'game_name_code', 'preference']].to_numpy()\n",
    "\n",
    "Y_train, Y_test = train_test_split(Y_data, test_size=0.2, random_state=42)\n",
    "\n",
    "rs = CF(Y_train, k=20, uuCF=0)\n",
    "rs.fit()\n"
   ],
   "id": "d2ad9e382726e451",
   "outputs": [],
   "execution_count": 11
  },
  {
   "metadata": {
    "ExecuteTime": {
     "end_time": "2025-07-11T09:29:13.865055Z",
     "start_time": "2025-07-11T09:28:45.595113Z"
    }
   },
   "cell_type": "code",
   "source": [
    "n_tests = min(10000, Y_test.shape[0])\n",
    "SE = 0\n",
    "for n in range(n_tests):\n",
    "    u, i, actual_rating = Y_test[n]\n",
    "    u, i = int(u), int(i)  # ép kiểu về int\n",
    "    pred_rating = rs.pred(u, i, normalized=0)\n",
    "    SE += (pred_rating - actual_rating) ** 2\n",
    "\n",
    "RMSE = np.sqrt(SE / n_tests)\n",
    "print(\"Item-Item CF, RMSE =\", RMSE)"
   ],
   "id": "24a960acd3b18ff5",
   "outputs": [
    {
     "name": "stdout",
     "output_type": "stream",
     "text": [
      "Item-Item CF, RMSE = 1.6965264018213724\n"
     ]
    }
   ],
   "execution_count": 10
  },
  {
   "metadata": {
    "ExecuteTime": {
     "end_time": "2025-07-11T09:26:05.463154Z",
     "start_time": "2025-07-11T09:26:05.458665Z"
    }
   },
   "cell_type": "code",
   "source": "print(Y_test.shape[0])",
   "id": "7242ee26d5b676cb",
   "outputs": [
    {
     "name": "stdout",
     "output_type": "stream",
     "text": [
      "350521\n"
     ]
    }
   ],
   "execution_count": 7
  }
 ],
 "metadata": {
  "kernelspec": {
   "display_name": "Python 3",
   "language": "python",
   "name": "python3"
  },
  "language_info": {
   "codemirror_mode": {
    "name": "ipython",
    "version": 2
   },
   "file_extension": ".py",
   "mimetype": "text/x-python",
   "name": "python",
   "nbconvert_exporter": "python",
   "pygments_lexer": "ipython2",
   "version": "2.7.6"
  }
 },
 "nbformat": 4,
 "nbformat_minor": 5
}
